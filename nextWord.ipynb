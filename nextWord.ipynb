{
  "nbformat": 4,
  "nbformat_minor": 0,
  "metadata": {
    "colab": {
      "provenance": [],
      "authorship_tag": "ABX9TyPW12lm8hgU14Q/tbqSoX//",
      "include_colab_link": true
    },
    "kernelspec": {
      "name": "python3",
      "display_name": "Python 3"
    },
    "language_info": {
      "name": "python"
    },
    "accelerator": "GPU",
    "gpuClass": "standard"
  },
  "cells": [
    {
      "cell_type": "markdown",
      "metadata": {
        "id": "view-in-github",
        "colab_type": "text"
      },
      "source": [
        "<a href=\"https://colab.research.google.com/github/jhmuller/nextWord/blob/main/nextWord.ipynb\" target=\"_parent\"><img src=\"https://colab.research.google.com/assets/colab-badge.svg\" alt=\"Open In Colab\"/></a>"
      ]
    },
    {
      "cell_type": "code",
      "execution_count": 1,
      "metadata": {
        "id": "zj2LmvbVUMwK"
      },
      "outputs": [],
      "source": [
        "import requests\n",
        "import re\n",
        "import string\n",
        "import numpy as np\n",
        "import sklearn"
      ]
    },
    {
      "cell_type": "markdown",
      "source": [
        "https://towardsdatascience.com/next-word-prediction-with-nlp-and-deep-learning-48b9fe0a17bf"
      ],
      "metadata": {
        "id": "WtMzaio_UWZW"
      }
    },
    {
      "cell_type": "code",
      "source": [
        "URL = 'https://www.gutenberg.org/files/67138/67138-0.txt'\n",
        "response = requests.get(URL)\n",
        "orig_text = response.content"
      ],
      "metadata": {
        "id": "WHlU_BNnWBPv"
      },
      "execution_count": 2,
      "outputs": []
    },
    {
      "cell_type": "code",
      "source": [
        "M = 2440\n",
        "temp_text = str(orig_text[M:])\n",
        "clean_text = re.sub(\"\\\\\\\\r|\\\\\\\\n|\\\\\\\\xbb|\\\\\\\\xef|\\\\\\\\xbf|'b'\", \" \", temp_text)\n",
        "cleaner_text = clean_text.translate(str.maketrans('', '', string.punctuation))"
      ],
      "metadata": {
        "id": "fVO_fHv2WVtF"
      },
      "execution_count": 3,
      "outputs": []
    },
    {
      "cell_type": "code",
      "source": [
        "len(cleaner_text)\n",
        "cleaner_text[:200]"
      ],
      "metadata": {
        "colab": {
          "base_uri": "https://localhost:8080/",
          "height": 53
        },
        "id": "3kqjI-Z1WzDX",
        "outputId": "d57149f3-f904-4ee8-baee-c28767c4f3c9"
      },
      "execution_count": 4,
      "outputs": [
        {
          "output_type": "execute_result",
          "data": {
            "text/plain": [
              "'bBOOK I                                          CHAPTER                                     1      Robert Cohn was once middleweight boxing champion of Princeton Do not  think that I am very much imp'"
            ],
            "application/vnd.google.colaboratory.intrinsic+json": {
              "type": "string"
            }
          },
          "metadata": {},
          "execution_count": 4
        }
      ]
    },
    {
      "cell_type": "code",
      "source": [
        " \n",
        "N = len(cleaner_text)\n",
        "cutoff = int(np.floor(0.5*N))\n",
        "while cleaner_text[cutoff] != ' ':\n",
        "  cutoff += 1\n",
        "train = cleaner_text[:cutoff]\n",
        "test = cleaner_text[cutoff:]\n",
        "test[:100]"
      ],
      "metadata": {
        "colab": {
          "base_uri": "https://localhost:8080/",
          "height": 35
        },
        "id": "R9ZaPJUrZXNt",
        "outputId": "53a5c654-0d48-4de6-aa41-30c812e6647c"
      },
      "execution_count": 51,
      "outputs": [
        {
          "output_type": "execute_result",
          "data": {
            "text/plain": [
              "' out of the cages one at  a time and they have steers in the corral to receive them and keep them  f'"
            ],
            "application/vnd.google.colaboratory.intrinsic+json": {
              "type": "string"
            }
          },
          "metadata": {},
          "execution_count": 51
        }
      ]
    },
    {
      "cell_type": "code",
      "source": [
        "from tensorflow.keras.preprocessing.text import Tokenizer\n",
        "\n",
        "tokenizer = Tokenizer()\n",
        "tokenizer.fit_on_texts([train])\n",
        "\n",
        "def make_Xy(data, tokenizer, ngram_len=1):\n",
        "\n",
        "  sequence_data = tokenizer.texts_to_sequences([data])[0]\n",
        "  print(len(sequence_data))\n",
        "  sequences = []\n",
        "  X = []\n",
        "  y = []\n",
        "  for i in range(1, len(sequence_data)-ngram_len-1):\n",
        "      words = sequence_data[i-1:i+ngram_len]\n",
        "      X.append(words[:-1])\n",
        "      y.append(words[-1])\n",
        "\n",
        "  X = np.array(X)\n",
        "  y = np.array(y)\n",
        "\n",
        "  from  tensorflow.keras.utils import to_categorical\n",
        "  vocab_size = len(tokenizer.word_index) + 1\n",
        "\n",
        "  ycat = to_categorical(y, num_classes=vocab_size)\n",
        "  return X, ycat, y\n",
        "\n",
        "Xtrain, ytrain, yindstrain = make_Xy(train, tokenizer, ngram_len=3)\n",
        "Xtest, ytest, yindstest = make_Xy(test, tokenizer, ngram_len=3)\n",
        "\n"
      ],
      "metadata": {
        "colab": {
          "base_uri": "https://localhost:8080/"
        },
        "id": "_4QeY9FBpid-",
        "outputId": "259dbf60-8e2e-4359-a0b9-981c5b2d36d1"
      },
      "execution_count": 73,
      "outputs": [
        {
          "output_type": "stream",
          "name": "stdout",
          "text": [
            "34953\n",
            "31254\n"
          ]
        }
      ]
    },
    {
      "cell_type": "code",
      "source": [
        "print(tokenizer.sequences_to_texts([yindstest[:5]]))\n",
        "tokenizer.sequences_to_texts(Xtest[:5])"
      ],
      "metadata": {
        "colab": {
          "base_uri": "https://localhost:8080/"
        },
        "id": "GeVSVXb7ZEcP",
        "outputId": "8c4a41b9-09c8-47e7-d93d-809084e88894"
      },
      "execution_count": 76,
      "outputs": [
        {
          "output_type": "stream",
          "name": "stdout",
          "text": [
            "['one at a time and']\n"
          ]
        },
        {
          "output_type": "execute_result",
          "data": {
            "text/plain": [
              "['out of the', 'of the one', 'the one at', 'one at a', 'at a time']"
            ]
          },
          "metadata": {},
          "execution_count": 76
        }
      ]
    },
    {
      "cell_type": "code",
      "source": [
        "from tensorflow.keras import Sequential\n",
        "from tensorflow.keras.layers import Embedding, LSTM, Dense\n",
        "def get_vocab_size(data):\n",
        "  tokenizer = Tokenizer()\n",
        "  tokenizer.fit_on_texts([data])\n",
        "  vocab_size = len(tokenizer.word_index) + 1\n",
        "  return vocab_size\n",
        "\n",
        "train_vocab_size = get_vocab_size(train)\n",
        "model = Sequential()\n",
        "model.add(Embedding(train_vocab_size, 10, input_length=3))\n",
        "model.add(LSTM(1000, return_sequences=True))\n",
        "model.add(LSTM(1000))\n",
        "model.add(Dense(1000, activation=\"relu\"))\n",
        "model.add(Dense(train_vocab_size, activation=\"softmax\"))"
      ],
      "metadata": {
        "id": "kUcGXoP3lQi9"
      },
      "execution_count": 53,
      "outputs": []
    },
    {
      "cell_type": "code",
      "source": [
        "from tensorflow.keras.callbacks import ModelCheckpoint\n",
        "from tensorflow.keras.callbacks import ReduceLROnPlateau\n",
        "from tensorflow.keras.callbacks import TensorBoard\n",
        "\n",
        "reduce_lr = ReduceLROnPlateau(monitor='loss', factor=0.2, patience=3, min_lr=0.0001, verbose = 1)\n",
        "\n",
        "logdir='logsnextword1'\n",
        "tensorboard_Visualization = TensorBoard(log_dir=logdir)"
      ],
      "metadata": {
        "id": "MZ4CHsS2ln1s"
      },
      "execution_count": 54,
      "outputs": []
    },
    {
      "cell_type": "code",
      "source": [
        "from tensorflow.keras.optimizers import Adam\n",
        "model.compile(loss=\"categorical_crossentropy\", metrics=['accuracy'], optimizer=Adam(lr=0.001))\n",
        "model.fit(Xtrain, ytrain, epochs=20, batch_size=64, callbacks=[reduce_lr, tensorboard_Visualization])"
      ],
      "metadata": {
        "colab": {
          "base_uri": "https://localhost:8080/"
        },
        "id": "WpTLCgbymiPx",
        "outputId": "e545f124-bb06-4d66-9595-ed2279b7408b"
      },
      "execution_count": 55,
      "outputs": [
        {
          "output_type": "stream",
          "name": "stdout",
          "text": [
            "Epoch 1/20\n",
            "547/547 [==============================] - 11s 14ms/step - loss: 6.5957 - accuracy: 0.0564 - lr: 0.0010\n",
            "Epoch 2/20\n",
            "547/547 [==============================] - 8s 14ms/step - loss: 6.1312 - accuracy: 0.0726 - lr: 0.0010\n",
            "Epoch 3/20\n",
            "547/547 [==============================] - 8s 14ms/step - loss: 5.7280 - accuracy: 0.0962 - lr: 0.0010\n",
            "Epoch 4/20\n",
            "547/547 [==============================] - 8s 14ms/step - loss: 5.3740 - accuracy: 0.1164 - lr: 0.0010\n",
            "Epoch 5/20\n",
            "547/547 [==============================] - 8s 14ms/step - loss: 5.0910 - accuracy: 0.1311 - lr: 0.0010\n",
            "Epoch 6/20\n",
            "547/547 [==============================] - 8s 15ms/step - loss: 4.8341 - accuracy: 0.1453 - lr: 0.0010\n",
            "Epoch 7/20\n",
            "547/547 [==============================] - 8s 15ms/step - loss: 4.5935 - accuracy: 0.1576 - lr: 0.0010\n",
            "Epoch 8/20\n",
            "547/547 [==============================] - 8s 15ms/step - loss: 4.3460 - accuracy: 0.1678 - lr: 0.0010\n",
            "Epoch 9/20\n",
            "547/547 [==============================] - 8s 15ms/step - loss: 4.0925 - accuracy: 0.1794 - lr: 0.0010\n",
            "Epoch 10/20\n",
            "547/547 [==============================] - 8s 15ms/step - loss: 3.8209 - accuracy: 0.1972 - lr: 0.0010\n",
            "Epoch 11/20\n",
            "547/547 [==============================] - 8s 15ms/step - loss: 3.5488 - accuracy: 0.2233 - lr: 0.0010\n",
            "Epoch 12/20\n",
            "547/547 [==============================] - 8s 15ms/step - loss: 3.2742 - accuracy: 0.2592 - lr: 0.0010\n",
            "Epoch 13/20\n",
            "547/547 [==============================] - 8s 14ms/step - loss: 3.0011 - accuracy: 0.2975 - lr: 0.0010\n",
            "Epoch 14/20\n",
            "547/547 [==============================] - 8s 15ms/step - loss: 2.7447 - accuracy: 0.3413 - lr: 0.0010\n",
            "Epoch 15/20\n",
            "547/547 [==============================] - 8s 15ms/step - loss: 2.4916 - accuracy: 0.3854 - lr: 0.0010\n",
            "Epoch 16/20\n",
            "547/547 [==============================] - 8s 15ms/step - loss: 2.2516 - accuracy: 0.4306 - lr: 0.0010\n",
            "Epoch 17/20\n",
            "547/547 [==============================] - 8s 15ms/step - loss: 2.0206 - accuracy: 0.4787 - lr: 0.0010\n",
            "Epoch 18/20\n",
            "547/547 [==============================] - 8s 15ms/step - loss: 1.8008 - accuracy: 0.5264 - lr: 0.0010\n",
            "Epoch 19/20\n",
            "547/547 [==============================] - 8s 15ms/step - loss: 1.5856 - accuracy: 0.5749 - lr: 0.0010\n",
            "Epoch 20/20\n",
            "547/547 [==============================] - 8s 15ms/step - loss: 1.3993 - accuracy: 0.6185 - lr: 0.0010\n"
          ]
        },
        {
          "output_type": "execute_result",
          "data": {
            "text/plain": [
              "<keras.callbacks.History at 0x7f36e7447e80>"
            ]
          },
          "metadata": {},
          "execution_count": 55
        }
      ]
    },
    {
      "cell_type": "code",
      "source": [
        "vpreds = model.predict(Xtrain[:10])\n",
        "print(len(vpreds))"
      ],
      "metadata": {
        "colab": {
          "base_uri": "https://localhost:8080/"
        },
        "id": "IF2wBj9WNyB9",
        "outputId": "9552add3-22e5-4ce5-d55a-3810be56e61f"
      },
      "execution_count": 72,
      "outputs": [
        {
          "output_type": "stream",
          "name": "stdout",
          "text": [
            "1/1 [==============================] - 0s 57ms/step\n",
            "10\n"
          ]
        }
      ]
    },
    {
      "cell_type": "code",
      "source": [
        "vpreds"
      ],
      "metadata": {
        "id": "aLHkUwAR0H4E",
        "colab": {
          "base_uri": "https://localhost:8080/"
        },
        "outputId": "57fad0c1-ebfa-4802-dccc-0cf2d75f751d"
      },
      "execution_count": 68,
      "outputs": [
        {
          "output_type": "execute_result",
          "data": {
            "text/plain": [
              "array([[3.1657301e-17, 7.0367020e-07, 3.9614457e-05, ..., 4.4670700e-24,\n",
              "        2.2778228e-19, 1.1904125e-23],\n",
              "       [1.1373858e-20, 4.3945145e-03, 1.3321155e-04, ..., 2.7161548e-25,\n",
              "        2.4375866e-27, 6.0519539e-30],\n",
              "       [2.4143169e-19, 4.4415381e-05, 2.1865437e-04, ..., 4.4792042e-22,\n",
              "        8.2951495e-31, 2.1465009e-28],\n",
              "       ...,\n",
              "       [6.9978097e-17, 7.4614718e-06, 1.7154634e-05, ..., 2.9582267e-31,\n",
              "        6.1213479e-23, 4.7216100e-31],\n",
              "       [9.0251609e-19, 2.3083126e-02, 1.3680741e-01, ..., 1.3861023e-28,\n",
              "        1.8005581e-27, 1.6768800e-24],\n",
              "       [4.6138811e-19, 3.2106396e-02, 1.0949762e-03, ..., 3.2657033e-15,\n",
              "        2.1778165e-17, 4.2019396e-23]], dtype=float32)"
            ]
          },
          "metadata": {},
          "execution_count": 68
        }
      ]
    },
    {
      "cell_type": "code",
      "source": [
        "pred_inds = [np.argmax(x) for x in vpreds]\n",
        "pred_words = tokenizer.sequences_to_texts([pred_inds])\n",
        "pred_words"
      ],
      "metadata": {
        "colab": {
          "base_uri": "https://localhost:8080/"
        },
        "id": "1gPUB2zGOC22",
        "outputId": "b3e23dab-6340-497a-c92d-b0971f73b877"
      },
      "execution_count": 69,
      "outputs": [
        {
          "output_type": "execute_result",
          "data": {
            "text/plain": [
              "['1 robert cohn was waiting middleweight boxing champion we princeton']"
            ]
          },
          "metadata": {},
          "execution_count": 69
        }
      ]
    },
    {
      "cell_type": "code",
      "source": [
        "true_inds = [np.argmax(x) for x in ytrain[:10]]\n",
        "true_words = tokenizer.sequences_to_texts([true_inds])\n",
        "true_words"
      ],
      "metadata": {
        "colab": {
          "base_uri": "https://localhost:8080/"
        },
        "id": "RBjT2GWDc4OA",
        "outputId": "823954ea-c538-46f9-add5-665d8127f98f"
      },
      "execution_count": 70,
      "outputs": [
        {
          "output_type": "execute_result",
          "data": {
            "text/plain": [
              "['1 robert cohn was once middleweight boxing champion of princeton']"
            ]
          },
          "metadata": {},
          "execution_count": 70
        }
      ]
    },
    {
      "cell_type": "code",
      "source": [
        "tokenizer.sequences_to_texts(Xtrain[:20])"
      ],
      "metadata": {
        "colab": {
          "base_uri": "https://localhost:8080/"
        },
        "id": "IdhnPOrReedx",
        "outputId": "cbf5a3ac-1d73-4542-cf12-9c1589d62d8a"
      },
      "execution_count": 71,
      "outputs": [
        {
          "output_type": "execute_result",
          "data": {
            "text/plain": [
              "['bbook i chapter',\n",
              " 'i chapter 1',\n",
              " 'chapter 1 robert',\n",
              " '1 robert cohn',\n",
              " 'robert cohn was',\n",
              " 'cohn was once',\n",
              " 'was once middleweight',\n",
              " 'once middleweight boxing',\n",
              " 'middleweight boxing champion',\n",
              " 'boxing champion of',\n",
              " 'champion of princeton',\n",
              " 'of princeton do',\n",
              " 'princeton do not',\n",
              " 'do not think',\n",
              " 'not think that',\n",
              " 'think that i',\n",
              " 'that i am',\n",
              " 'i am very',\n",
              " 'am very much',\n",
              " 'very much impressed']"
            ]
          },
          "metadata": {},
          "execution_count": 71
        }
      ]
    },
    {
      "cell_type": "code",
      "source": [],
      "metadata": {
        "id": "YBVyzgXPekiS"
      },
      "execution_count": null,
      "outputs": []
    }
  ]
}