{
  "nbformat": 4,
  "nbformat_minor": 0,
  "metadata": {
    "colab": {
      "provenance": [],
      "authorship_tag": "ABX9TyMQKvaurJdBTN6JJS/SsjvA",
      "include_colab_link": true
    },
    "kernelspec": {
      "name": "python3",
      "display_name": "Python 3"
    },
    "language_info": {
      "name": "python"
    },
    "accelerator": "GPU",
    "gpuClass": "standard"
  },
  "cells": [
    {
      "cell_type": "markdown",
      "metadata": {
        "id": "view-in-github",
        "colab_type": "text"
      },
      "source": [
        "<a href=\"https://colab.research.google.com/github/jhmuller/nextWord/blob/main/nextWord.ipynb\" target=\"_parent\"><img src=\"https://colab.research.google.com/assets/colab-badge.svg\" alt=\"Open In Colab\"/></a>"
      ]
    },
    {
      "cell_type": "code",
      "execution_count": 2,
      "metadata": {
        "id": "zj2LmvbVUMwK"
      },
      "outputs": [],
      "source": [
        "import requests\n",
        "import re\n",
        "import os\n",
        "import string\n",
        "import numpy as np\n",
        "import sklearn"
      ]
    },
    {
      "cell_type": "markdown",
      "source": [
        "https://towardsdatascience.com/next-word-prediction-with-nlp-and-deep-learning-48b9fe0a17bf"
      ],
      "metadata": {
        "id": "WtMzaio_UWZW"
      }
    },
    {
      "cell_type": "code",
      "source": [
        "from google.colab import drive\n",
        "try:\n",
        "  os.listdir(\"/content/drive\")\n",
        "except:\n",
        "  drive.mount('/content/drive')\n",
        "ddir = \"/content/drive/MyDrive/data\"\n",
        "fname = 'lambada_development_plain_text.txt'\n",
        "fpath = os.path.join(ddir, fname)\n",
        "with open(fpath, 'r') as fp:\n",
        "  orig_text = fp.read()"
      ],
      "metadata": {
        "id": "5_gO2ZLMUCIz"
      },
      "execution_count": 14,
      "outputs": []
    },
    {
      "cell_type": "code",
      "source": [
        "orig_text[:200]\n",
        "clean_text = re.sub(\"\\'|\\,|\\.|\\?|\\!\", '', orig_text)\n",
        "clean_text[:300]"
      ],
      "metadata": {
        "colab": {
          "base_uri": "https://localhost:8080/",
          "height": 53
        },
        "id": "P-2mns2TVwV-",
        "outputId": "a203483d-8e1a-4b5a-c00f-64a3c43991e7"
      },
      "execution_count": 21,
      "outputs": [
        {
          "output_type": "execute_result",
          "data": {
            "text/plain": [
              "'her pay for the evening was almost double that of the wait staff and although that might not seem like a lot to some people  it was a small fortune to claire  after loading her final tray for a server  claire went to the restroom to freshen up and begin preparations for being loaded into the cake  p'"
            ],
            "application/vnd.google.colaboratory.intrinsic+json": {
              "type": "string"
            }
          },
          "metadata": {},
          "execution_count": 21
        }
      ]
    },
    {
      "cell_type": "code",
      "source": [
        "URL = 'https://www.gutenberg.org/files/67138/67138-0.txt'\n",
        "response = requests.get(URL)\n",
        "orig_text = response.content"
      ],
      "metadata": {
        "id": "WHlU_BNnWBPv"
      },
      "execution_count": 2,
      "outputs": []
    },
    {
      "cell_type": "code",
      "source": [
        "M = 2535\n",
        "temp_text = str(orig_text[M:])\n",
        "clean_text = re.sub(\"\\\\\\\\r|\\\\\\\\n|\\\\\\\\xbb|\\\\\\\\xef|\\\\\\\\xbf|x80|x9|xe|\\d.\", \" \", temp_text)\n",
        "cleaner_text = clean_text.translate(str.maketrans('', '', string.punctuation))"
      ],
      "metadata": {
        "id": "fVO_fHv2WVtF"
      },
      "execution_count": 50,
      "outputs": []
    },
    {
      "cell_type": "code",
      "source": [
        "len(cleaner_text)\n",
        "cleaner_text[:200]"
      ],
      "metadata": {
        "colab": {
          "base_uri": "https://localhost:8080/",
          "height": 53
        },
        "id": "3kqjI-Z1WzDX",
        "outputId": "504f20c4-5a2e-4002-dc77-4aed55179e99"
      },
      "execution_count": 51,
      "outputs": [
        {
          "output_type": "execute_result",
          "data": {
            "text/plain": [
              "'b    Robert Cohn was once middleweight boxing champion of Princeton Do not  think that I am very much impressed by that as a boxing title but it  meant a lot to Cohn He cared nothing for boxing in fac'"
            ],
            "application/vnd.google.colaboratory.intrinsic+json": {
              "type": "string"
            }
          },
          "metadata": {},
          "execution_count": 51
        }
      ]
    },
    {
      "cell_type": "code",
      "source": [
        " \n",
        "N = len(cleaner_text)\n",
        "cutoff = int(np.floor(0.2*N))\n",
        "while cleaner_text[cutoff] != ' ':\n",
        "  cutoff += 1\n",
        "train = cleaner_text[:cutoff]\n",
        "test = cleaner_text[cutoff:]\n",
        "test[:100]"
      ],
      "metadata": {
        "colab": {
          "base_uri": "https://localhost:8080/",
          "height": 35
        },
        "id": "R9ZaPJUrZXNt",
        "outputId": "e87ca412-1093-4b68-9029-e0695d13eca2"
      },
      "execution_count": 56,
      "outputs": [
        {
          "output_type": "execute_result",
          "data": {
            "text/plain": [
              "' face down on the bed I was having a  bad time I heard them talking but I did not listen Brett came '"
            ],
            "application/vnd.google.colaboratory.intrinsic+json": {
              "type": "string"
            }
          },
          "metadata": {},
          "execution_count": 56
        }
      ]
    },
    {
      "cell_type": "code",
      "source": [
        "from tensorflow.keras.preprocessing.text import Tokenizer\n",
        "\n",
        "tokenizer = Tokenizer()\n",
        "tokenizer.fit_on_texts([train])\n",
        "\n",
        "NGRAM_LEN = 4\n",
        "def make_Xy(data, tokenizer, ngram_len=1):\n",
        "\n",
        "  sequence_data = tokenizer.texts_to_sequences([data])[0]\n",
        "  print(len(sequence_data))\n",
        "  sequences = []\n",
        "  X = []\n",
        "  y = []\n",
        "  for i in range(1, len(sequence_data)-ngram_len-1):\n",
        "      words = sequence_data[i-1:i+ngram_len]\n",
        "      X.append(words[:-1])\n",
        "      y.append(words[-1])\n",
        "\n",
        "  X = np.array(X)\n",
        "  y = np.array(y)\n",
        "\n",
        "  from  tensorflow.keras.utils import to_categorical\n",
        "  vocab_size = len(tokenizer.word_index) + 1\n",
        "\n",
        "  ycat = to_categorical(y, num_classes=vocab_size)\n",
        "  return X, ycat, y\n",
        "\n",
        "Xtrain, ytrain, yindstrain = make_Xy(train, tokenizer, ngram_len=NGRAM_LEN)\n",
        "Xtest, ytest, yindstest = make_Xy(test, tokenizer, ngram_len=NGRAM_LEN)\n",
        "\n"
      ],
      "metadata": {
        "colab": {
          "base_uri": "https://localhost:8080/"
        },
        "id": "_4QeY9FBpid-",
        "outputId": "bd61d7b3-6cf6-40be-9b1f-dc970edaf5ce"
      },
      "execution_count": 68,
      "outputs": [
        {
          "output_type": "stream",
          "name": "stdout",
          "text": [
            "14932\n",
            "50776\n"
          ]
        }
      ]
    },
    {
      "cell_type": "code",
      "source": [
        "print(tokenizer.sequences_to_texts([yindstest[:5]]))\n",
        "tokenizer.sequences_to_texts(Xtest[:5])"
      ],
      "metadata": {
        "colab": {
          "base_uri": "https://localhost:8080/"
        },
        "id": "GeVSVXb7ZEcP",
        "outputId": "2225498f-b18b-4745-cbe9-391c34e6b7b8"
      },
      "execution_count": 69,
      "outputs": [
        {
          "output_type": "stream",
          "name": "stdout",
          "text": [
            "['bed i was having a']\n"
          ]
        },
        {
          "output_type": "execute_result",
          "data": {
            "text/plain": [
              "['face down on the',\n",
              " 'down on the bed',\n",
              " 'on the bed i',\n",
              " 'the bed i was',\n",
              " 'bed i was having']"
            ]
          },
          "metadata": {},
          "execution_count": 69
        }
      ]
    },
    {
      "cell_type": "code",
      "source": [
        "from tensorflow.keras import Sequential\n",
        "from tensorflow.keras.layers import Embedding, LSTM, Dense\n",
        "def get_vocab_size(data):\n",
        "  tokenizer = Tokenizer()\n",
        "  tokenizer.fit_on_texts([data])\n",
        "  vocab_size = len(tokenizer.word_index) + 1\n",
        "  return vocab_size\n",
        "\n",
        "train_vocab_size = get_vocab_size(train)\n",
        "model = Sequential()\n",
        "model.add(Embedding(train_vocab_size, 20, input_length=NGRAM_LEN))\n",
        "model.add(LSTM(1000, return_sequences=True))\n",
        "model.add(LSTM(1000))\n",
        "model.add(Dense(1000, activation=\"relu\"))\n",
        "model.add(Dense(train_vocab_size, activation=\"softmax\"))"
      ],
      "metadata": {
        "id": "kUcGXoP3lQi9"
      },
      "execution_count": 70,
      "outputs": []
    },
    {
      "cell_type": "code",
      "source": [
        "from tensorflow.keras.callbacks import ModelCheckpoint\n",
        "from tensorflow.keras.callbacks import ReduceLROnPlateau\n",
        "from tensorflow.keras.callbacks import TensorBoard\n",
        "\n",
        "reduce_lr = ReduceLROnPlateau(monitor='loss', factor=0.2, patience=3, min_lr=0.0001, verbose = 1)\n",
        "\n",
        "logdir='logsnextword1'\n",
        "tensorboard_Visualization = TensorBoard(log_dir=logdir)"
      ],
      "metadata": {
        "id": "MZ4CHsS2ln1s"
      },
      "execution_count": 71,
      "outputs": []
    },
    {
      "cell_type": "code",
      "source": [
        "from tensorflow.keras.optimizers import Adam\n",
        "model.compile(loss=\"categorical_crossentropy\", metrics=['accuracy'], \n",
        "              optimizer=Adam(learning_rate=0.001))\n",
        "model.fit(Xtrain, ytrain, epochs=16, batch_size=64, callbacks=[reduce_lr])"
      ],
      "metadata": {
        "colab": {
          "base_uri": "https://localhost:8080/"
        },
        "id": "WpTLCgbymiPx",
        "outputId": "f8dd275a-fb9f-4d15-8a37-f5b4e8093b54"
      },
      "execution_count": 73,
      "outputs": [
        {
          "output_type": "stream",
          "name": "stdout",
          "text": [
            "Epoch 1/16\n",
            "234/234 [==============================] - 6s 15ms/step - loss: 1.2417 - accuracy: 0.6540 - lr: 0.0010\n",
            "Epoch 2/16\n",
            "234/234 [==============================] - 3s 14ms/step - loss: 0.8046 - accuracy: 0.7788 - lr: 0.0010\n",
            "Epoch 3/16\n",
            "234/234 [==============================] - 3s 14ms/step - loss: 0.5980 - accuracy: 0.8332 - lr: 0.0010\n",
            "Epoch 4/16\n",
            "234/234 [==============================] - 3s 15ms/step - loss: 0.4387 - accuracy: 0.8869 - lr: 0.0010\n",
            "Epoch 5/16\n",
            "234/234 [==============================] - 3s 14ms/step - loss: 0.3508 - accuracy: 0.9118 - lr: 0.0010\n",
            "Epoch 6/16\n",
            "234/234 [==============================] - 3s 14ms/step - loss: 0.2618 - accuracy: 0.9372 - lr: 0.0010\n",
            "Epoch 7/16\n",
            "234/234 [==============================] - 3s 15ms/step - loss: 0.2199 - accuracy: 0.9504 - lr: 0.0010\n",
            "Epoch 8/16\n",
            "234/234 [==============================] - 3s 15ms/step - loss: 0.1908 - accuracy: 0.9567 - lr: 0.0010\n",
            "Epoch 9/16\n",
            "234/234 [==============================] - 3s 15ms/step - loss: 0.1788 - accuracy: 0.9590 - lr: 0.0010\n",
            "Epoch 10/16\n",
            "234/234 [==============================] - 3s 15ms/step - loss: 0.1714 - accuracy: 0.9589 - lr: 0.0010\n",
            "Epoch 11/16\n",
            "234/234 [==============================] - 3s 15ms/step - loss: 0.1840 - accuracy: 0.9537 - lr: 0.0010\n",
            "Epoch 12/16\n",
            "234/234 [==============================] - 3s 15ms/step - loss: 0.1871 - accuracy: 0.9523 - lr: 0.0010\n",
            "Epoch 13/16\n",
            "234/234 [==============================] - ETA: 0s - loss: 0.2014 - accuracy: 0.9463\n",
            "Epoch 13: ReduceLROnPlateau reducing learning rate to 0.00020000000949949026.\n",
            "234/234 [==============================] - 3s 15ms/step - loss: 0.2014 - accuracy: 0.9463 - lr: 0.0010\n",
            "Epoch 14/16\n",
            "234/234 [==============================] - 3s 15ms/step - loss: 0.1058 - accuracy: 0.9708 - lr: 2.0000e-04\n",
            "Epoch 15/16\n",
            "234/234 [==============================] - 3s 15ms/step - loss: 0.0562 - accuracy: 0.9772 - lr: 2.0000e-04\n",
            "Epoch 16/16\n",
            "234/234 [==============================] - 3s 15ms/step - loss: 0.0507 - accuracy: 0.9749 - lr: 2.0000e-04\n"
          ]
        },
        {
          "output_type": "execute_result",
          "data": {
            "text/plain": [
              "<keras.callbacks.History at 0x7f536e495b20>"
            ]
          },
          "metadata": {},
          "execution_count": 73
        }
      ]
    },
    {
      "cell_type": "code",
      "source": [
        "x_data = Xtest\n",
        "y_data = ytest"
      ],
      "metadata": {
        "id": "Lf5gDaQ2TLJM"
      },
      "execution_count": 79,
      "outputs": []
    },
    {
      "cell_type": "code",
      "source": [
        "vpreds = model.predict(x_data[:20])\n",
        "print(len(vpreds))\n",
        "pred_inds = [np.argmax(x) for x in vpreds]\n",
        "pred_words = tokenizer.sequences_to_texts([pred_inds])\n",
        "pred_words"
      ],
      "metadata": {
        "colab": {
          "base_uri": "https://localhost:8080/"
        },
        "id": "IF2wBj9WNyB9",
        "outputId": "ebf5b042-68e3-4ff5-b51e-fc6d979a113c"
      },
      "execution_count": 82,
      "outputs": [
        {
          "output_type": "stream",
          "name": "stdout",
          "text": [
            "1/1 [==============================] - 0s 18ms/step\n",
            "20\n"
          ]
        },
        {
          "output_type": "execute_result",
          "data": {
            "text/plain": [
              "['stairs the felt tall a great of about e the be d he went not realize anything to on my']"
            ]
          },
          "metadata": {},
          "execution_count": 82
        }
      ]
    },
    {
      "cell_type": "code",
      "source": [
        "true_inds = [np.argmax(x) for x in y_data[:20]]\n",
        "true_words = tokenizer.sequences_to_texts([true_inds])\n",
        "true_words"
      ],
      "metadata": {
        "colab": {
          "base_uri": "https://localhost:8080/"
        },
        "id": "RBjT2GWDc4OA",
        "outputId": "4a36190a-395a-4523-afe9-c87ee451ea56"
      },
      "execution_count": 83,
      "outputs": [
        {
          "output_type": "execute_result",
          "data": {
            "text/plain": [
              "['bed i was having a bad time i heard them talking but i did not listen brett came in and']"
            ]
          },
          "metadata": {},
          "execution_count": 83
        }
      ]
    },
    {
      "cell_type": "code",
      "source": [
        "triples_words = tokenizer.sequences_to_texts(x_data[:10])\n",
        "triples_words"
      ],
      "metadata": {
        "colab": {
          "base_uri": "https://localhost:8080/"
        },
        "id": "IdhnPOrReedx",
        "outputId": "74d8572c-041d-4161-dd39-096dd4c8c290"
      },
      "execution_count": 78,
      "outputs": [
        {
          "output_type": "execute_result",
          "data": {
            "text/plain": [
              "['b robert cohn was',\n",
              " 'robert cohn was once',\n",
              " 'cohn was once middleweight',\n",
              " 'was once middleweight boxing',\n",
              " 'once middleweight boxing champion',\n",
              " 'middleweight boxing champion of',\n",
              " 'boxing champion of princeton',\n",
              " 'champion of princeton do',\n",
              " 'of princeton do not',\n",
              " 'princeton do not think']"
            ]
          },
          "metadata": {},
          "execution_count": 78
        }
      ]
    },
    {
      "cell_type": "code",
      "source": [
        "len(ytest[0])"
      ],
      "metadata": {
        "colab": {
          "base_uri": "https://localhost:8080/"
        },
        "id": "YBVyzgXPekiS",
        "outputId": "d54e70d4-3370-4f01-a61a-6c445e473369"
      },
      "execution_count": 21,
      "outputs": [
        {
          "output_type": "execute_result",
          "data": {
            "text/plain": [
              "3172"
            ]
          },
          "metadata": {},
          "execution_count": 21
        }
      ]
    },
    {
      "cell_type": "code",
      "source": [
        "pred_inds"
      ],
      "metadata": {
        "colab": {
          "base_uri": "https://localhost:8080/"
        },
        "id": "RX5xCK0CuBQD",
        "outputId": "010151c5-28d0-43d8-ae36-b47cfc4a7028"
      },
      "execution_count": 95,
      "outputs": [
        {
          "output_type": "execute_result",
          "data": {
            "text/plain": [
              "[390, 247, 1, 122, 11, 14, 151, 5, 77, 376]"
            ]
          },
          "metadata": {},
          "execution_count": 95
        }
      ]
    },
    {
      "cell_type": "code",
      "source": [],
      "metadata": {
        "id": "sgIhuv9bvxZI"
      },
      "execution_count": null,
      "outputs": []
    }
  ]
}