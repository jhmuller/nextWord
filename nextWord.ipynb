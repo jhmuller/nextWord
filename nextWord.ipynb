{
  "nbformat": 4,
  "nbformat_minor": 0,
  "metadata": {
    "colab": {
      "provenance": [],
      "authorship_tag": "ABX9TyMnz5C3xqLwpnI6jOnzS03N",
      "include_colab_link": true
    },
    "kernelspec": {
      "name": "python3",
      "display_name": "Python 3"
    },
    "language_info": {
      "name": "python"
    },
    "accelerator": "GPU",
    "gpuClass": "standard"
  },
  "cells": [
    {
      "cell_type": "markdown",
      "metadata": {
        "id": "view-in-github",
        "colab_type": "text"
      },
      "source": [
        "<a href=\"https://colab.research.google.com/github/jhmuller/nextWord/blob/main/nextWord.ipynb\" target=\"_parent\"><img src=\"https://colab.research.google.com/assets/colab-badge.svg\" alt=\"Open In Colab\"/></a>"
      ]
    },
    {
      "cell_type": "code",
      "execution_count": 96,
      "metadata": {
        "id": "zj2LmvbVUMwK"
      },
      "outputs": [],
      "source": [
        "import requests\n",
        "import re\n",
        "import string\n",
        "import numpy as np\n",
        "import sklearn"
      ]
    },
    {
      "cell_type": "markdown",
      "source": [
        "https://towardsdatascience.com/next-word-prediction-with-nlp-and-deep-learning-48b9fe0a17bf"
      ],
      "metadata": {
        "id": "WtMzaio_UWZW"
      }
    },
    {
      "cell_type": "code",
      "source": [
        "URL = 'https://www.gutenberg.org/files/67138/67138-0.txt'\n",
        "response = requests.get(URL)\n",
        "orig_text = response.content"
      ],
      "metadata": {
        "id": "WHlU_BNnWBPv"
      },
      "execution_count": 97,
      "outputs": []
    },
    {
      "cell_type": "code",
      "source": [
        "M = 2535\n",
        "temp_text = str(orig_text[M:])\n",
        "clean_text = re.sub(\"\\\\\\\\r|\\\\\\\\n|\\\\\\\\xbb|\\\\\\\\xef|\\\\\\\\xbf|x80|x9|xe|\\d.\", \" \", temp_text)\n",
        "cleaner_text = clean_text.translate(str.maketrans('', '', string.punctuation))"
      ],
      "metadata": {
        "id": "fVO_fHv2WVtF"
      },
      "execution_count": 123,
      "outputs": []
    },
    {
      "cell_type": "code",
      "source": [
        "len(cleaner_text)\n",
        "cleaner_text[:200]"
      ],
      "metadata": {
        "colab": {
          "base_uri": "https://localhost:8080/",
          "height": 53
        },
        "id": "3kqjI-Z1WzDX",
        "outputId": "b3d0dfa5-2204-452d-9026-743386c87f1d"
      },
      "execution_count": 124,
      "outputs": [
        {
          "output_type": "execute_result",
          "data": {
            "text/plain": [
              "'b    Robert Cohn was once middleweight boxing champion of Princeton Do not  think that I am very much impressed by that as a boxing title but it  meant a lot to Cohn He cared nothing for boxing in fac'"
            ],
            "application/vnd.google.colaboratory.intrinsic+json": {
              "type": "string"
            }
          },
          "metadata": {},
          "execution_count": 124
        }
      ]
    },
    {
      "cell_type": "code",
      "source": [
        " \n",
        "N = len(cleaner_text)\n",
        "cutoff = int(np.floor(0.4*N))\n",
        "while cleaner_text[cutoff] != ' ':\n",
        "  cutoff += 1\n",
        "train = cleaner_text[:cutoff]\n",
        "test = cleaner_text[cutoff:]\n",
        "test[:100]"
      ],
      "metadata": {
        "colab": {
          "base_uri": "https://localhost:8080/",
          "height": 35
        },
        "id": "R9ZaPJUrZXNt",
        "outputId": "c404e8d8-16e2-4494-a01d-4024362bba6f"
      },
      "execution_count": 127,
      "outputs": [
        {
          "output_type": "execute_result",
          "data": {
            "text/plain": [
              "' from them The green plain stretched  off It was cut by fences and the white of the road showed thro'"
            ],
            "application/vnd.google.colaboratory.intrinsic+json": {
              "type": "string"
            }
          },
          "metadata": {},
          "execution_count": 127
        }
      ]
    },
    {
      "cell_type": "code",
      "source": [
        "from tensorflow.keras.preprocessing.text import Tokenizer\n",
        "\n",
        "tokenizer = Tokenizer()\n",
        "tokenizer.fit_on_texts([train])\n",
        "\n",
        "def make_Xy(data, tokenizer, ngram_len=1):\n",
        "\n",
        "  sequence_data = tokenizer.texts_to_sequences([data])[0]\n",
        "  print(len(sequence_data))\n",
        "  sequences = []\n",
        "  X = []\n",
        "  y = []\n",
        "  for i in range(1, len(sequence_data)-ngram_len-1):\n",
        "      words = sequence_data[i-1:i+ngram_len]\n",
        "      X.append(words[:-1])\n",
        "      y.append(words[-1])\n",
        "\n",
        "  X = np.array(X)\n",
        "  y = np.array(y)\n",
        "\n",
        "  from  tensorflow.keras.utils import to_categorical\n",
        "  vocab_size = len(tokenizer.word_index) + 1\n",
        "\n",
        "  ycat = to_categorical(y, num_classes=vocab_size)\n",
        "  return X, ycat, y\n",
        "\n",
        "Xtrain, ytrain, yindstrain = make_Xy(train, tokenizer, ngram_len=3)\n",
        "Xtest, ytest, yindstest = make_Xy(test, tokenizer, ngram_len=3)\n",
        "\n"
      ],
      "metadata": {
        "colab": {
          "base_uri": "https://localhost:8080/"
        },
        "id": "_4QeY9FBpid-",
        "outputId": "f740bac6-54d7-4fc1-86a2-e22991998be1"
      },
      "execution_count": 128,
      "outputs": [
        {
          "output_type": "stream",
          "name": "stdout",
          "text": [
            "29962\n",
            "39497\n"
          ]
        }
      ]
    },
    {
      "cell_type": "code",
      "source": [
        "print(tokenizer.sequences_to_texts([yindstest[:5]]))\n",
        "tokenizer.sequences_to_texts(Xtest[:5])"
      ],
      "metadata": {
        "colab": {
          "base_uri": "https://localhost:8080/"
        },
        "id": "GeVSVXb7ZEcP",
        "outputId": "664c9760-0b83-4723-9ccb-54ea3744598f"
      },
      "execution_count": 129,
      "outputs": [
        {
          "output_type": "stream",
          "name": "stdout",
          "text": [
            "['green plain stretched off it']\n"
          ]
        },
        {
          "output_type": "execute_result",
          "data": {
            "text/plain": [
              "['from them the',\n",
              " 'them the green',\n",
              " 'the green plain',\n",
              " 'green plain stretched',\n",
              " 'plain stretched off']"
            ]
          },
          "metadata": {},
          "execution_count": 129
        }
      ]
    },
    {
      "cell_type": "code",
      "source": [
        "from tensorflow.keras import Sequential\n",
        "from tensorflow.keras.layers import Embedding, LSTM, Dense\n",
        "def get_vocab_size(data):\n",
        "  tokenizer = Tokenizer()\n",
        "  tokenizer.fit_on_texts([data])\n",
        "  vocab_size = len(tokenizer.word_index) + 1\n",
        "  return vocab_size\n",
        "\n",
        "train_vocab_size = get_vocab_size(train)\n",
        "model = Sequential()\n",
        "model.add(Embedding(train_vocab_size, 50, input_length=3))\n",
        "model.add(LSTM(1000, return_sequences=True))\n",
        "model.add(LSTM(1000))\n",
        "model.add(Dense(1000, activation=\"relu\"))\n",
        "model.add(Dense(train_vocab_size, activation=\"softmax\"))"
      ],
      "metadata": {
        "id": "kUcGXoP3lQi9"
      },
      "execution_count": null,
      "outputs": []
    },
    {
      "cell_type": "code",
      "source": [
        "from tensorflow.keras.callbacks import ModelCheckpoint\n",
        "from tensorflow.keras.callbacks import ReduceLROnPlateau\n",
        "from tensorflow.keras.callbacks import TensorBoard\n",
        "\n",
        "reduce_lr = ReduceLROnPlateau(monitor='loss', factor=0.2, patience=3, min_lr=0.0001, verbose = 1)\n",
        "\n",
        "logdir='logsnextword1'\n",
        "tensorboard_Visualization = TensorBoard(log_dir=logdir)"
      ],
      "metadata": {
        "id": "MZ4CHsS2ln1s"
      },
      "execution_count": 131,
      "outputs": []
    },
    {
      "cell_type": "code",
      "source": [
        "from tensorflow.keras.optimizers import Adam\n",
        "model.compile(loss=\"categorical_crossentropy\", metrics=['accuracy'], optimizer=Adam(lr=0.001))\n",
        "model.fit(Xtrain, ytrain, epochs=10, batch_size=64, callbacks=[reduce_lr, tensorboard_Visualization])"
      ],
      "metadata": {
        "colab": {
          "base_uri": "https://localhost:8080/"
        },
        "id": "WpTLCgbymiPx",
        "outputId": "95fed89d-7bef-46f4-ef72-c1b6a46097c1"
      },
      "execution_count": null,
      "outputs": [
        {
          "output_type": "stream",
          "name": "stdout",
          "text": [
            "Epoch 1/10\n",
            "469/469 [==============================] - 9s 14ms/step - loss: 6.2562 - accuracy: 0.0509 - lr: 0.0010\n",
            "Epoch 2/10\n",
            "469/469 [==============================] - 6s 13ms/step - loss: 5.8083 - accuracy: 0.0709 - lr: 0.0010\n",
            "Epoch 3/10\n",
            "469/469 [==============================] - 6s 14ms/step - loss: 5.4204 - accuracy: 0.1050 - lr: 0.0010\n",
            "Epoch 4/10\n",
            "469/469 [==============================] - 6s 14ms/step - loss: 5.0590 - accuracy: 0.1312 - lr: 0.0010\n",
            "Epoch 5/10\n",
            "469/469 [==============================] - 6s 13ms/step - loss: 4.7680 - accuracy: 0.1494 - lr: 0.0010\n",
            "Epoch 6/10\n",
            "436/469 [==========================>...] - ETA: 0s - loss: 4.5271 - accuracy: 0.1670"
          ]
        }
      ]
    },
    {
      "cell_type": "code",
      "source": [
        "vpreds = model.predict(Xtest[:10])\n",
        "print(len(vpreds))\n",
        "pred_inds = [np.argmax(x) for x in vpreds]\n",
        "pred_words = tokenizer.sequences_to_texts([pred_inds])\n",
        "pred_words"
      ],
      "metadata": {
        "colab": {
          "base_uri": "https://localhost:8080/"
        },
        "id": "IF2wBj9WNyB9",
        "outputId": "cd44a1e7-a1d4-47b9-9ebc-3e8a1d685f05"
      },
      "execution_count": 93,
      "outputs": [
        {
          "output_type": "stream",
          "name": "stdout",
          "text": [
            "1/1 [==============================] - 1s 619ms/step\n",
            "10\n"
          ]
        },
        {
          "output_type": "execute_result",
          "data": {
            "text/plain": [
              "['mountains glass the big it on saw to any crowd']"
            ]
          },
          "metadata": {},
          "execution_count": 93
        }
      ]
    },
    {
      "cell_type": "code",
      "source": [
        "true_inds = [np.argmax(x) for x in ytest[:10]]\n",
        "true_words = tokenizer.sequences_to_texts([true_inds])\n",
        "true_words"
      ],
      "metadata": {
        "colab": {
          "base_uri": "https://localhost:8080/"
        },
        "id": "RBjT2GWDc4OA",
        "outputId": "3150dbcd-310a-44d6-f989-5995e713daa3"
      },
      "execution_count": 87,
      "outputs": [
        {
          "output_type": "execute_result",
          "data": {
            "text/plain": [
              "['one at a time and they have in the to']"
            ]
          },
          "metadata": {},
          "execution_count": 87
        }
      ]
    },
    {
      "cell_type": "code",
      "source": [
        "true_inds"
      ],
      "metadata": {
        "colab": {
          "base_uri": "https://localhost:8080/"
        },
        "id": "IdhnPOrReedx",
        "outputId": "7f269442-0a40-4199-adb6-6ab1606a8bbb"
      },
      "execution_count": 89,
      "outputs": [
        {
          "output_type": "execute_result",
          "data": {
            "text/plain": [
              "[37, 15, 4, 101, 2, 50, 33, 9, 1, 5]"
            ]
          },
          "metadata": {},
          "execution_count": 89
        }
      ]
    },
    {
      "cell_type": "code",
      "source": [
        "print(vpreds[1][15], max(vpreds[1]))"
      ],
      "metadata": {
        "colab": {
          "base_uri": "https://localhost:8080/"
        },
        "id": "YBVyzgXPekiS",
        "outputId": "739743b9-2af0-48d5-a8e0-eab6eef1d7c4"
      },
      "execution_count": 94,
      "outputs": [
        {
          "output_type": "stream",
          "name": "stdout",
          "text": [
            "0.002098431 0.40241668\n"
          ]
        }
      ]
    },
    {
      "cell_type": "code",
      "source": [
        "pred_inds"
      ],
      "metadata": {
        "colab": {
          "base_uri": "https://localhost:8080/"
        },
        "id": "RX5xCK0CuBQD",
        "outputId": "010151c5-28d0-43d8-ae36-b47cfc4a7028"
      },
      "execution_count": 95,
      "outputs": [
        {
          "output_type": "execute_result",
          "data": {
            "text/plain": [
              "[390, 247, 1, 122, 11, 14, 151, 5, 77, 376]"
            ]
          },
          "metadata": {},
          "execution_count": 95
        }
      ]
    },
    {
      "cell_type": "code",
      "source": [],
      "metadata": {
        "id": "sgIhuv9bvxZI"
      },
      "execution_count": null,
      "outputs": []
    }
  ]
}